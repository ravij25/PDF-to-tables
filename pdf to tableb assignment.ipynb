{
 "cells": [
  {
   "cell_type": "code",
   "execution_count": 6,
   "id": "4dd4e5d2",
   "metadata": {},
   "outputs": [],
   "source": [
    "import pdftables"
   ]
  },
  {
   "cell_type": "code",
   "execution_count": 7,
   "id": "cb107d95",
   "metadata": {},
   "outputs": [
    {
     "data": {
      "text/plain": [
       "['BOTTOM',\n",
       " 'Counter',\n",
       " 'IS_TABLE_COLUMN_COUNT_THRESHOLD',\n",
       " 'IS_TABLE_ROW_COUNT_THRESHOLD',\n",
       " 'LAParams',\n",
       " 'LEFT',\n",
       " 'LTPage',\n",
       " 'Leaf',\n",
       " 'LeafList',\n",
       " 'PDFDevice',\n",
       " 'PDFDocument',\n",
       " 'PDFPage',\n",
       " 'PDFPageAggregator',\n",
       " 'PDFPageInterpreter',\n",
       " 'PDFParser',\n",
       " 'PDFResourceManager',\n",
       " 'RIGHT',\n",
       " 'StringIO',\n",
       " 'TOP',\n",
       " 'Table',\n",
       " 'TableDiagnosticData',\n",
       " '__builtins__',\n",
       " '__cached__',\n",
       " '__doc__',\n",
       " '__file__',\n",
       " '__loader__',\n",
       " '__name__',\n",
       " '__package__',\n",
       " '__path__',\n",
       " '__spec__',\n",
       " 'apply_combs',\n",
       " 'calculate_modal_height',\n",
       " 'codecs',\n",
       " 'collections',\n",
       " 'comb',\n",
       " 'comb_extend',\n",
       " 'comb_from_projection',\n",
       " 'comb_from_uppers_and_lowers',\n",
       " 'contains_tables',\n",
       " 'counter',\n",
       " 'crop_table',\n",
       " 'file_handle_from_url',\n",
       " 'filter_box_list_by_position',\n",
       " 'find_minima',\n",
       " 'find_table_bounding_box',\n",
       " 'fround',\n",
       " 'get_min_and_max_y_from_hints',\n",
       " 'get_pdf_page',\n",
       " 'get_tables',\n",
       " 'initialize_pdf_interpreter',\n",
       " 'math',\n",
       " 'multi_column_detect',\n",
       " 'numpy',\n",
       " 'page_contains_tables',\n",
       " 'page_to_tables',\n",
       " 'pdftables',\n",
       " 'project_boxes',\n",
       " 'requests',\n",
       " 'rounder',\n",
       " 'sys',\n",
       " 'threshold_above',\n",
       " 'tree']"
      ]
     },
     "execution_count": 7,
     "metadata": {},
     "output_type": "execute_result"
    }
   ],
   "source": [
    "dir(pdftables)"
   ]
  },
  {
   "cell_type": "code",
   "execution_count": 11,
   "id": "e5ecec4e",
   "metadata": {},
   "outputs": [],
   "source": [
    "pg=pdftables.get_pdf_page(open(\"D:\\AI\\python\\Python course\\Data_science\\imp\\work\\invoice_sample_2.pdf\", \"rb\", ), 1)"
   ]
  },
  {
   "cell_type": "code",
   "execution_count": 12,
   "id": "774bd9a8",
   "metadata": {},
   "outputs": [
    {
     "data": {
      "text/plain": [
       "<LTPage(1) 0.000,0.000,603.950,781.580 rotate=0>"
      ]
     },
     "execution_count": 12,
     "metadata": {},
     "output_type": "execute_result"
    }
   ],
   "source": [
    "pg"
   ]
  },
  {
   "cell_type": "code",
   "execution_count": 14,
   "id": "622b4f41",
   "metadata": {},
   "outputs": [],
   "source": [
    "tables=pdftables.page_to_tables(pg)"
   ]
  },
  {
   "cell_type": "code",
   "execution_count": 15,
   "id": "842d3133",
   "metadata": {},
   "outputs": [
    {
     "data": {
      "text/plain": [
       "([['02/01/2019 ', 'LUKASZ Z ', 'Developer (Lukasz Z.) ', '11,060.00 '],\n",
       "  ['02/01/2019 ',\n",
       "   'ANGELIKAM ',\n",
       "   'Junior QA Specialist (Angelika) ',\n",
       "   '6,440.00 '],\n",
       "  ['02/01/2019 ', 'ANASTASIYA ', 'QA Specialist (Anastasiya) ', '8,540.00 '],\n",
       "  ['02/01/2019 ', 'ANDREW ', 'Acct. Manager (Andrew) ', '2,685.00 '],\n",
       "  ['02/01/2019 ', 'DOROTA ', 'Project Manager (Dorota) ', '11,900.00 '],\n",
       "  ['02/01/2019 ', 'LUKASZ B ', 'Junior Developer (Lukasz) ', '4,270.00 '],\n",
       "  ['02/01/2019 ', 'T&M SERVICES (FM) ', 'Developer (Szymon) ', '10,507.00 '],\n",
       "  ['02/01/2019 ',\n",
       "   'NATALIA ',\n",
       "   'Assistant Project Manager (Natalia) ',\n",
       "   '2,166.00 '],\n",
       "  ['02/01/2019 02/01/2019 ',\n",
       "   'KACPERR ',\n",
       "   'UX Designer (Kacper) DISCOUNTS ',\n",
       "   '4,200.00 Subtotal: 146,643.00 '],\n",
       "  ['02/01/2019 02/01/2019 ',\n",
       "   'ROBBIE ',\n",
       "   'Business Analyst (Robbie) - January 100% JANUARY CORRECTIONS ',\n",
       "   '-1,750.00 Subtotal: -1,750.00 '],\n",
       "  ['02/01/2019 ', 'SEANH ', 'Engagement Manager (Sean) ', '-3,337.50 '],\n",
       "  ['02/01/2019 ', 'ROBBIE ', 'Business Analyst (Robbie) ', '1,750.00']],\n",
       " <pdftables.pdftables.TableDiagnosticData at 0x1c028e80f40>)"
      ]
     },
     "execution_count": 15,
     "metadata": {},
     "output_type": "execute_result"
    }
   ],
   "source": [
    "tables"
   ]
  },
  {
   "cell_type": "code",
   "execution_count": 16,
   "id": "bf1c6df3",
   "metadata": {},
   "outputs": [
    {
     "data": {
      "text/plain": [
       "tuple"
      ]
     },
     "execution_count": 16,
     "metadata": {},
     "output_type": "execute_result"
    }
   ],
   "source": [
    "type(tables)"
   ]
  },
  {
   "cell_type": "code",
   "execution_count": 18,
   "id": "43e86c1d",
   "metadata": {},
   "outputs": [
    {
     "data": {
      "text/plain": [
       "list"
      ]
     },
     "execution_count": 18,
     "metadata": {},
     "output_type": "execute_result"
    }
   ],
   "source": [
    "type(tables[0])"
   ]
  },
  {
   "cell_type": "code",
   "execution_count": 21,
   "id": "3acd1367",
   "metadata": {},
   "outputs": [
    {
     "data": {
      "text/plain": [
       "[['02/01/2019 ', 'LUKASZ Z ', 'Developer (Lukasz Z.) ', '11,060.00 '],\n",
       " ['02/01/2019 ',\n",
       "  'ANGELIKAM ',\n",
       "  'Junior QA Specialist (Angelika) ',\n",
       "  '6,440.00 '],\n",
       " ['02/01/2019 ', 'ANASTASIYA ', 'QA Specialist (Anastasiya) ', '8,540.00 '],\n",
       " ['02/01/2019 ', 'ANDREW ', 'Acct. Manager (Andrew) ', '2,685.00 '],\n",
       " ['02/01/2019 ', 'DOROTA ', 'Project Manager (Dorota) ', '11,900.00 '],\n",
       " ['02/01/2019 ', 'LUKASZ B ', 'Junior Developer (Lukasz) ', '4,270.00 '],\n",
       " ['02/01/2019 ', 'T&M SERVICES (FM) ', 'Developer (Szymon) ', '10,507.00 '],\n",
       " ['02/01/2019 ',\n",
       "  'NATALIA ',\n",
       "  'Assistant Project Manager (Natalia) ',\n",
       "  '2,166.00 '],\n",
       " ['02/01/2019 02/01/2019 ',\n",
       "  'KACPERR ',\n",
       "  'UX Designer (Kacper) DISCOUNTS ',\n",
       "  '4,200.00 Subtotal: 146,643.00 '],\n",
       " ['02/01/2019 02/01/2019 ',\n",
       "  'ROBBIE ',\n",
       "  'Business Analyst (Robbie) - January 100% JANUARY CORRECTIONS ',\n",
       "  '-1,750.00 Subtotal: -1,750.00 '],\n",
       " ['02/01/2019 ', 'SEANH ', 'Engagement Manager (Sean) ', '-3,337.50 '],\n",
       " ['02/01/2019 ', 'ROBBIE ', 'Business Analyst (Robbie) ', '1,750.00']]"
      ]
     },
     "execution_count": 21,
     "metadata": {},
     "output_type": "execute_result"
    }
   ],
   "source": [
    "tables[0]"
   ]
  },
  {
   "cell_type": "code",
   "execution_count": 22,
   "id": "5a72d936",
   "metadata": {},
   "outputs": [
    {
     "data": {
      "text/plain": [
       "['02/01/2019 ', 'ANGELIKAM ', 'Junior QA Specialist (Angelika) ', '6,440.00 ']"
      ]
     },
     "execution_count": 22,
     "metadata": {},
     "output_type": "execute_result"
    }
   ],
   "source": [
    "tables[0][1]"
   ]
  },
  {
   "cell_type": "code",
   "execution_count": 32,
   "id": "1258e896",
   "metadata": {},
   "outputs": [],
   "source": [
    "titels= ['DATE', 'ACTIVITY', 'DESCRIPTION', 'AMOUNT']"
   ]
  },
  {
   "cell_type": "code",
   "execution_count": 33,
   "id": "39c8af93",
   "metadata": {},
   "outputs": [
    {
     "data": {
      "text/plain": [
       "['DATE', 'ACTIVITY', 'DESCRIPTION', 'AMOUNT']"
      ]
     },
     "execution_count": 33,
     "metadata": {},
     "output_type": "execute_result"
    }
   ],
   "source": [
    "titels"
   ]
  },
  {
   "cell_type": "code",
   "execution_count": 38,
   "id": "0e438623",
   "metadata": {},
   "outputs": [],
   "source": [
    "all_rows=[]\n",
    "\n",
    "for row_data in tables[0][0:]:\n",
    "    all_rows.extend([row_data[:4],row_data[4:]])"
   ]
  },
  {
   "cell_type": "code",
   "execution_count": 39,
   "id": "8332e531",
   "metadata": {},
   "outputs": [
    {
     "data": {
      "text/plain": [
       "[['02/01/2019 ', 'LUKASZ Z ', 'Developer (Lukasz Z.) ', '11,060.00 '],\n",
       " [],\n",
       " ['02/01/2019 ',\n",
       "  'ANGELIKAM ',\n",
       "  'Junior QA Specialist (Angelika) ',\n",
       "  '6,440.00 '],\n",
       " [],\n",
       " ['02/01/2019 ', 'ANASTASIYA ', 'QA Specialist (Anastasiya) ', '8,540.00 '],\n",
       " [],\n",
       " ['02/01/2019 ', 'ANDREW ', 'Acct. Manager (Andrew) ', '2,685.00 '],\n",
       " [],\n",
       " ['02/01/2019 ', 'DOROTA ', 'Project Manager (Dorota) ', '11,900.00 '],\n",
       " [],\n",
       " ['02/01/2019 ', 'LUKASZ B ', 'Junior Developer (Lukasz) ', '4,270.00 '],\n",
       " [],\n",
       " ['02/01/2019 ', 'T&M SERVICES (FM) ', 'Developer (Szymon) ', '10,507.00 '],\n",
       " [],\n",
       " ['02/01/2019 ',\n",
       "  'NATALIA ',\n",
       "  'Assistant Project Manager (Natalia) ',\n",
       "  '2,166.00 '],\n",
       " [],\n",
       " ['02/01/2019 02/01/2019 ',\n",
       "  'KACPERR ',\n",
       "  'UX Designer (Kacper) DISCOUNTS ',\n",
       "  '4,200.00 Subtotal: 146,643.00 '],\n",
       " [],\n",
       " ['02/01/2019 02/01/2019 ',\n",
       "  'ROBBIE ',\n",
       "  'Business Analyst (Robbie) - January 100% JANUARY CORRECTIONS ',\n",
       "  '-1,750.00 Subtotal: -1,750.00 '],\n",
       " [],\n",
       " ['02/01/2019 ', 'SEANH ', 'Engagement Manager (Sean) ', '-3,337.50 '],\n",
       " [],\n",
       " ['02/01/2019 ', 'ROBBIE ', 'Business Analyst (Robbie) ', '1,750.00'],\n",
       " []]"
      ]
     },
     "execution_count": 39,
     "metadata": {},
     "output_type": "execute_result"
    }
   ],
   "source": [
    "all_rows"
   ]
  },
  {
   "cell_type": "code",
   "execution_count": 40,
   "id": "76414eb9",
   "metadata": {},
   "outputs": [],
   "source": [
    "import pandas as pd"
   ]
  },
  {
   "cell_type": "code",
   "execution_count": 45,
   "id": "070a0681",
   "metadata": {},
   "outputs": [],
   "source": [
    "df=pd.DataFrame(all_rows, columns=titels)"
   ]
  },
  {
   "cell_type": "code",
   "execution_count": 46,
   "id": "98316936",
   "metadata": {},
   "outputs": [
    {
     "data": {
      "text/html": [
       "<div>\n",
       "<style scoped>\n",
       "    .dataframe tbody tr th:only-of-type {\n",
       "        vertical-align: middle;\n",
       "    }\n",
       "\n",
       "    .dataframe tbody tr th {\n",
       "        vertical-align: top;\n",
       "    }\n",
       "\n",
       "    .dataframe thead th {\n",
       "        text-align: right;\n",
       "    }\n",
       "</style>\n",
       "<table border=\"1\" class=\"dataframe\">\n",
       "  <thead>\n",
       "    <tr style=\"text-align: right;\">\n",
       "      <th></th>\n",
       "      <th>DATE</th>\n",
       "      <th>ACTIVITY</th>\n",
       "      <th>DESCRIPTION</th>\n",
       "      <th>AMOUNT</th>\n",
       "    </tr>\n",
       "  </thead>\n",
       "  <tbody>\n",
       "    <tr>\n",
       "      <th>0</th>\n",
       "      <td>02/01/2019</td>\n",
       "      <td>LUKASZ Z</td>\n",
       "      <td>Developer (Lukasz Z.)</td>\n",
       "      <td>11,060.00</td>\n",
       "    </tr>\n",
       "    <tr>\n",
       "      <th>1</th>\n",
       "      <td>None</td>\n",
       "      <td>None</td>\n",
       "      <td>None</td>\n",
       "      <td>None</td>\n",
       "    </tr>\n",
       "    <tr>\n",
       "      <th>2</th>\n",
       "      <td>02/01/2019</td>\n",
       "      <td>ANGELIKAM</td>\n",
       "      <td>Junior QA Specialist (Angelika)</td>\n",
       "      <td>6,440.00</td>\n",
       "    </tr>\n",
       "    <tr>\n",
       "      <th>3</th>\n",
       "      <td>None</td>\n",
       "      <td>None</td>\n",
       "      <td>None</td>\n",
       "      <td>None</td>\n",
       "    </tr>\n",
       "    <tr>\n",
       "      <th>4</th>\n",
       "      <td>02/01/2019</td>\n",
       "      <td>ANASTASIYA</td>\n",
       "      <td>QA Specialist (Anastasiya)</td>\n",
       "      <td>8,540.00</td>\n",
       "    </tr>\n",
       "    <tr>\n",
       "      <th>5</th>\n",
       "      <td>None</td>\n",
       "      <td>None</td>\n",
       "      <td>None</td>\n",
       "      <td>None</td>\n",
       "    </tr>\n",
       "    <tr>\n",
       "      <th>6</th>\n",
       "      <td>02/01/2019</td>\n",
       "      <td>ANDREW</td>\n",
       "      <td>Acct. Manager (Andrew)</td>\n",
       "      <td>2,685.00</td>\n",
       "    </tr>\n",
       "    <tr>\n",
       "      <th>7</th>\n",
       "      <td>None</td>\n",
       "      <td>None</td>\n",
       "      <td>None</td>\n",
       "      <td>None</td>\n",
       "    </tr>\n",
       "    <tr>\n",
       "      <th>8</th>\n",
       "      <td>02/01/2019</td>\n",
       "      <td>DOROTA</td>\n",
       "      <td>Project Manager (Dorota)</td>\n",
       "      <td>11,900.00</td>\n",
       "    </tr>\n",
       "    <tr>\n",
       "      <th>9</th>\n",
       "      <td>None</td>\n",
       "      <td>None</td>\n",
       "      <td>None</td>\n",
       "      <td>None</td>\n",
       "    </tr>\n",
       "    <tr>\n",
       "      <th>10</th>\n",
       "      <td>02/01/2019</td>\n",
       "      <td>LUKASZ B</td>\n",
       "      <td>Junior Developer (Lukasz)</td>\n",
       "      <td>4,270.00</td>\n",
       "    </tr>\n",
       "    <tr>\n",
       "      <th>11</th>\n",
       "      <td>None</td>\n",
       "      <td>None</td>\n",
       "      <td>None</td>\n",
       "      <td>None</td>\n",
       "    </tr>\n",
       "    <tr>\n",
       "      <th>12</th>\n",
       "      <td>02/01/2019</td>\n",
       "      <td>T&amp;M SERVICES (FM)</td>\n",
       "      <td>Developer (Szymon)</td>\n",
       "      <td>10,507.00</td>\n",
       "    </tr>\n",
       "    <tr>\n",
       "      <th>13</th>\n",
       "      <td>None</td>\n",
       "      <td>None</td>\n",
       "      <td>None</td>\n",
       "      <td>None</td>\n",
       "    </tr>\n",
       "    <tr>\n",
       "      <th>14</th>\n",
       "      <td>02/01/2019</td>\n",
       "      <td>NATALIA</td>\n",
       "      <td>Assistant Project Manager (Natalia)</td>\n",
       "      <td>2,166.00</td>\n",
       "    </tr>\n",
       "    <tr>\n",
       "      <th>15</th>\n",
       "      <td>None</td>\n",
       "      <td>None</td>\n",
       "      <td>None</td>\n",
       "      <td>None</td>\n",
       "    </tr>\n",
       "    <tr>\n",
       "      <th>16</th>\n",
       "      <td>02/01/2019 02/01/2019</td>\n",
       "      <td>KACPERR</td>\n",
       "      <td>UX Designer (Kacper) DISCOUNTS</td>\n",
       "      <td>4,200.00 Subtotal: 146,643.00</td>\n",
       "    </tr>\n",
       "    <tr>\n",
       "      <th>17</th>\n",
       "      <td>None</td>\n",
       "      <td>None</td>\n",
       "      <td>None</td>\n",
       "      <td>None</td>\n",
       "    </tr>\n",
       "    <tr>\n",
       "      <th>18</th>\n",
       "      <td>02/01/2019 02/01/2019</td>\n",
       "      <td>ROBBIE</td>\n",
       "      <td>Business Analyst (Robbie) - January 100% JANUA...</td>\n",
       "      <td>-1,750.00 Subtotal: -1,750.00</td>\n",
       "    </tr>\n",
       "    <tr>\n",
       "      <th>19</th>\n",
       "      <td>None</td>\n",
       "      <td>None</td>\n",
       "      <td>None</td>\n",
       "      <td>None</td>\n",
       "    </tr>\n",
       "    <tr>\n",
       "      <th>20</th>\n",
       "      <td>02/01/2019</td>\n",
       "      <td>SEANH</td>\n",
       "      <td>Engagement Manager (Sean)</td>\n",
       "      <td>-3,337.50</td>\n",
       "    </tr>\n",
       "    <tr>\n",
       "      <th>21</th>\n",
       "      <td>None</td>\n",
       "      <td>None</td>\n",
       "      <td>None</td>\n",
       "      <td>None</td>\n",
       "    </tr>\n",
       "    <tr>\n",
       "      <th>22</th>\n",
       "      <td>02/01/2019</td>\n",
       "      <td>ROBBIE</td>\n",
       "      <td>Business Analyst (Robbie)</td>\n",
       "      <td>1,750.00</td>\n",
       "    </tr>\n",
       "    <tr>\n",
       "      <th>23</th>\n",
       "      <td>None</td>\n",
       "      <td>None</td>\n",
       "      <td>None</td>\n",
       "      <td>None</td>\n",
       "    </tr>\n",
       "  </tbody>\n",
       "</table>\n",
       "</div>"
      ],
      "text/plain": [
       "                      DATE            ACTIVITY  \\\n",
       "0              02/01/2019            LUKASZ Z    \n",
       "1                     None                None   \n",
       "2              02/01/2019           ANGELIKAM    \n",
       "3                     None                None   \n",
       "4              02/01/2019          ANASTASIYA    \n",
       "5                     None                None   \n",
       "6              02/01/2019              ANDREW    \n",
       "7                     None                None   \n",
       "8              02/01/2019              DOROTA    \n",
       "9                     None                None   \n",
       "10             02/01/2019            LUKASZ B    \n",
       "11                    None                None   \n",
       "12             02/01/2019   T&M SERVICES (FM)    \n",
       "13                    None                None   \n",
       "14             02/01/2019             NATALIA    \n",
       "15                    None                None   \n",
       "16  02/01/2019 02/01/2019             KACPERR    \n",
       "17                    None                None   \n",
       "18  02/01/2019 02/01/2019              ROBBIE    \n",
       "19                    None                None   \n",
       "20             02/01/2019               SEANH    \n",
       "21                    None                None   \n",
       "22             02/01/2019              ROBBIE    \n",
       "23                    None                None   \n",
       "\n",
       "                                          DESCRIPTION  \\\n",
       "0                              Developer (Lukasz Z.)    \n",
       "1                                                None   \n",
       "2                    Junior QA Specialist (Angelika)    \n",
       "3                                                None   \n",
       "4                         QA Specialist (Anastasiya)    \n",
       "5                                                None   \n",
       "6                             Acct. Manager (Andrew)    \n",
       "7                                                None   \n",
       "8                           Project Manager (Dorota)    \n",
       "9                                                None   \n",
       "10                         Junior Developer (Lukasz)    \n",
       "11                                               None   \n",
       "12                                Developer (Szymon)    \n",
       "13                                               None   \n",
       "14               Assistant Project Manager (Natalia)    \n",
       "15                                               None   \n",
       "16                    UX Designer (Kacper) DISCOUNTS    \n",
       "17                                               None   \n",
       "18  Business Analyst (Robbie) - January 100% JANUA...   \n",
       "19                                               None   \n",
       "20                         Engagement Manager (Sean)    \n",
       "21                                               None   \n",
       "22                         Business Analyst (Robbie)    \n",
       "23                                               None   \n",
       "\n",
       "                            AMOUNT  \n",
       "0                       11,060.00   \n",
       "1                             None  \n",
       "2                        6,440.00   \n",
       "3                             None  \n",
       "4                        8,540.00   \n",
       "5                             None  \n",
       "6                        2,685.00   \n",
       "7                             None  \n",
       "8                       11,900.00   \n",
       "9                             None  \n",
       "10                       4,270.00   \n",
       "11                            None  \n",
       "12                      10,507.00   \n",
       "13                            None  \n",
       "14                       2,166.00   \n",
       "15                            None  \n",
       "16  4,200.00 Subtotal: 146,643.00   \n",
       "17                            None  \n",
       "18  -1,750.00 Subtotal: -1,750.00   \n",
       "19                            None  \n",
       "20                      -3,337.50   \n",
       "21                            None  \n",
       "22                        1,750.00  \n",
       "23                            None  "
      ]
     },
     "execution_count": 46,
     "metadata": {},
     "output_type": "execute_result"
    }
   ],
   "source": [
    "df"
   ]
  },
  {
   "cell_type": "code",
   "execution_count": 48,
   "id": "ea4038c5",
   "metadata": {},
   "outputs": [],
   "source": [
    "df.to_excel(\"output.xlsx\") "
   ]
  },
  {
   "cell_type": "code",
   "execution_count": 49,
   "id": "5df76c4f",
   "metadata": {},
   "outputs": [],
   "source": [
    "df.to_excel(\"output.xlsx\",\n",
    "             sheet_name='Sheet_name_1')"
   ]
  },
  {
   "cell_type": "code",
   "execution_count": null,
   "id": "150bc3be",
   "metadata": {},
   "outputs": [],
   "source": []
  }
 ],
 "metadata": {
  "kernelspec": {
   "display_name": "Python 3 (ipykernel)",
   "language": "python",
   "name": "python3"
  },
  "language_info": {
   "codemirror_mode": {
    "name": "ipython",
    "version": 3
   },
   "file_extension": ".py",
   "mimetype": "text/x-python",
   "name": "python",
   "nbconvert_exporter": "python",
   "pygments_lexer": "ipython3",
   "version": "3.9.13"
  }
 },
 "nbformat": 4,
 "nbformat_minor": 5
}
